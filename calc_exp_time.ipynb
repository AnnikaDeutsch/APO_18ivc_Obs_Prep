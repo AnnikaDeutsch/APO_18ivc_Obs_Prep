{
 "cells": [
  {
   "cell_type": "code",
   "execution_count": 6,
   "metadata": {},
   "outputs": [],
   "source": [
    "from APOExptime.APOinputclasses import Sky, Target, Instrument, Observation\n",
    "from APOExptime.Plotter import makeplots"
   ]
  },
  {
   "cell_type": "code",
   "execution_count": 4,
   "metadata": {},
   "outputs": [],
   "source": [
    "# calculate airmass of object that night\n",
    "\n",
    "# define mag of object that night\n",
    "obj_mag = 20.0"
   ]
  },
  {
   "cell_type": "code",
   "execution_count": 18,
   "metadata": {},
   "outputs": [
    {
     "name": "stdout",
     "output_type": "stream",
     "text": [
      "[[array([ 8062,  8063,  8064, ..., 24943, 24944, 24945]), array([2.70924424e+07, 2.99662209e+07, 1.74639053e+08, ...,\n",
      "       2.81800780e+09, 9.91408946e+09, 1.57904250e+11]), 'TripleSpec_default_effic']]\n"
     ]
    }
   ],
   "source": [
    "# sky conditions that night\n",
    "sky = Sky(lunar_phase=0.0, seeing=1.0, airmass=1.2)\n",
    "\n",
    "# target info\n",
    "nir_range = (9500, 24600) # Angstroms, TripleSpec wavelength range\n",
    "tgt = Target(mag=obj_mag, magsystem='VEGAMAG', filt_range=nir_range)\n",
    "\n",
    "# instrument info\n",
    "inst = Instrument('TripleSpec')\n",
    "\n",
    "# solve for exposure time to reach S/N=10\n",
    "obs = Observation(tgt, sky, inst)\n",
    "times = obs.TimefromSN(SN=10.0)\n",
    "print(times)"
   ]
  }
 ],
 "metadata": {
  "kernelspec": {
   "display_name": "observational",
   "language": "python",
   "name": "python3"
  },
  "language_info": {
   "codemirror_mode": {
    "name": "ipython",
    "version": 3
   },
   "file_extension": ".py",
   "mimetype": "text/x-python",
   "name": "python",
   "nbconvert_exporter": "python",
   "pygments_lexer": "ipython3",
   "version": "3.12.0"
  }
 },
 "nbformat": 4,
 "nbformat_minor": 2
}
